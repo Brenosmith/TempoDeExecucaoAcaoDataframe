{
 "cells": [
  {
   "cell_type": "code",
   "execution_count": 1,
   "metadata": {},
   "outputs": [],
   "source": [
    "import pandas as pd\n",
    "import timeit"
   ]
  },
  {
   "cell_type": "code",
   "execution_count": 2,
   "metadata": {},
   "outputs": [],
   "source": [
    "df = pd.read_csv('data/fake_payment_data.csv')"
   ]
  },
  {
   "cell_type": "markdown",
   "metadata": {},
   "source": [
    "Fazendo uma análise básica dos dados"
   ]
  },
  {
   "cell_type": "code",
   "execution_count": 100,
   "metadata": {},
   "outputs": [
    {
     "data": {
      "text/html": [
       "<div>\n",
       "<style scoped>\n",
       "    .dataframe tbody tr th:only-of-type {\n",
       "        vertical-align: middle;\n",
       "    }\n",
       "\n",
       "    .dataframe tbody tr th {\n",
       "        vertical-align: top;\n",
       "    }\n",
       "\n",
       "    .dataframe thead th {\n",
       "        text-align: right;\n",
       "    }\n",
       "</style>\n",
       "<table border=\"1\" class=\"dataframe\">\n",
       "  <thead>\n",
       "    <tr style=\"text-align: right;\">\n",
       "      <th></th>\n",
       "      <th>cpf</th>\n",
       "      <th>data_vencimento</th>\n",
       "      <th>data_pagamento</th>\n",
       "      <th>valor_fatura</th>\n",
       "      <th>idade</th>\n",
       "    </tr>\n",
       "  </thead>\n",
       "  <tbody>\n",
       "    <tr>\n",
       "      <th>0</th>\n",
       "      <td>791.604.835-39</td>\n",
       "      <td>2024-08-05</td>\n",
       "      <td>2024-08-12</td>\n",
       "      <td>9624</td>\n",
       "      <td>54</td>\n",
       "    </tr>\n",
       "    <tr>\n",
       "      <th>1</th>\n",
       "      <td>598.024.637-10</td>\n",
       "      <td>2024-05-27</td>\n",
       "      <td>2024-05-24</td>\n",
       "      <td>6620</td>\n",
       "      <td>80</td>\n",
       "    </tr>\n",
       "    <tr>\n",
       "      <th>2</th>\n",
       "      <td>374.590.162-25</td>\n",
       "      <td>2024-09-19</td>\n",
       "      <td>2024-10-02</td>\n",
       "      <td>8305</td>\n",
       "      <td>32</td>\n",
       "    </tr>\n",
       "    <tr>\n",
       "      <th>3</th>\n",
       "      <td>352.940.761-52</td>\n",
       "      <td>2024-05-28</td>\n",
       "      <td>2024-06-18</td>\n",
       "      <td>6285</td>\n",
       "      <td>47</td>\n",
       "    </tr>\n",
       "    <tr>\n",
       "      <th>4</th>\n",
       "      <td>386.014.275-53</td>\n",
       "      <td>2024-04-20</td>\n",
       "      <td>2024-04-23</td>\n",
       "      <td>7727</td>\n",
       "      <td>41</td>\n",
       "    </tr>\n",
       "  </tbody>\n",
       "</table>\n",
       "</div>"
      ],
      "text/plain": [
       "              cpf data_vencimento data_pagamento  valor_fatura  idade\n",
       "0  791.604.835-39      2024-08-05     2024-08-12          9624     54\n",
       "1  598.024.637-10      2024-05-27     2024-05-24          6620     80\n",
       "2  374.590.162-25      2024-09-19     2024-10-02          8305     32\n",
       "3  352.940.761-52      2024-05-28     2024-06-18          6285     47\n",
       "4  386.014.275-53      2024-04-20     2024-04-23          7727     41"
      ]
     },
     "execution_count": 100,
     "metadata": {},
     "output_type": "execute_result"
    }
   ],
   "source": [
    "df.head()"
   ]
  },
  {
   "cell_type": "code",
   "execution_count": 101,
   "metadata": {},
   "outputs": [
    {
     "data": {
      "text/plain": [
       "cpf                object\n",
       "data_vencimento    object\n",
       "data_pagamento     object\n",
       "valor_fatura        int64\n",
       "idade               int64\n",
       "dtype: object"
      ]
     },
     "execution_count": 101,
     "metadata": {},
     "output_type": "execute_result"
    }
   ],
   "source": [
    "df.dtypes"
   ]
  },
  {
   "cell_type": "code",
   "execution_count": 102,
   "metadata": {},
   "outputs": [
    {
     "data": {
      "text/html": [
       "<div>\n",
       "<style scoped>\n",
       "    .dataframe tbody tr th:only-of-type {\n",
       "        vertical-align: middle;\n",
       "    }\n",
       "\n",
       "    .dataframe tbody tr th {\n",
       "        vertical-align: top;\n",
       "    }\n",
       "\n",
       "    .dataframe thead th {\n",
       "        text-align: right;\n",
       "    }\n",
       "</style>\n",
       "<table border=\"1\" class=\"dataframe\">\n",
       "  <thead>\n",
       "    <tr style=\"text-align: right;\">\n",
       "      <th></th>\n",
       "      <th>valor_fatura</th>\n",
       "      <th>idade</th>\n",
       "    </tr>\n",
       "  </thead>\n",
       "  <tbody>\n",
       "    <tr>\n",
       "      <th>count</th>\n",
       "      <td>100.00000</td>\n",
       "      <td>100.000000</td>\n",
       "    </tr>\n",
       "    <tr>\n",
       "      <th>mean</th>\n",
       "      <td>5600.81000</td>\n",
       "      <td>48.830000</td>\n",
       "    </tr>\n",
       "    <tr>\n",
       "      <th>std</th>\n",
       "      <td>2637.73057</td>\n",
       "      <td>16.752539</td>\n",
       "    </tr>\n",
       "    <tr>\n",
       "      <th>min</th>\n",
       "      <td>180.00000</td>\n",
       "      <td>19.000000</td>\n",
       "    </tr>\n",
       "    <tr>\n",
       "      <th>25%</th>\n",
       "      <td>3451.75000</td>\n",
       "      <td>37.000000</td>\n",
       "    </tr>\n",
       "    <tr>\n",
       "      <th>50%</th>\n",
       "      <td>5893.50000</td>\n",
       "      <td>48.500000</td>\n",
       "    </tr>\n",
       "    <tr>\n",
       "      <th>75%</th>\n",
       "      <td>7901.25000</td>\n",
       "      <td>61.000000</td>\n",
       "    </tr>\n",
       "    <tr>\n",
       "      <th>max</th>\n",
       "      <td>9760.00000</td>\n",
       "      <td>80.000000</td>\n",
       "    </tr>\n",
       "  </tbody>\n",
       "</table>\n",
       "</div>"
      ],
      "text/plain": [
       "       valor_fatura       idade\n",
       "count     100.00000  100.000000\n",
       "mean     5600.81000   48.830000\n",
       "std      2637.73057   16.752539\n",
       "min       180.00000   19.000000\n",
       "25%      3451.75000   37.000000\n",
       "50%      5893.50000   48.500000\n",
       "75%      7901.25000   61.000000\n",
       "max      9760.00000   80.000000"
      ]
     },
     "execution_count": 102,
     "metadata": {},
     "output_type": "execute_result"
    }
   ],
   "source": [
    "df.describe()"
   ]
  },
  {
   "cell_type": "markdown",
   "metadata": {},
   "source": [
    "Objetivo: identificar pessoas que fizeram o pagamento com mais de cinco dias de atraso da fatura"
   ]
  },
  {
   "cell_type": "code",
   "execution_count": 103,
   "metadata": {},
   "outputs": [
    {
     "data": {
      "text/plain": [
       "cpf                        object\n",
       "data_vencimento    datetime64[ns]\n",
       "data_pagamento     datetime64[ns]\n",
       "valor_fatura                int64\n",
       "idade                       int64\n",
       "dtype: object"
      ]
     },
     "execution_count": 103,
     "metadata": {},
     "output_type": "execute_result"
    }
   ],
   "source": [
    "df['data_vencimento'] = pd.to_datetime(df['data_vencimento'])\n",
    "df['data_pagamento'] = pd.to_datetime(df['data_pagamento'])\n",
    "\n",
    "df.dtypes"
   ]
  },
  {
   "cell_type": "code",
   "execution_count": 104,
   "metadata": {},
   "outputs": [
    {
     "data": {
      "text/html": [
       "<div>\n",
       "<style scoped>\n",
       "    .dataframe tbody tr th:only-of-type {\n",
       "        vertical-align: middle;\n",
       "    }\n",
       "\n",
       "    .dataframe tbody tr th {\n",
       "        vertical-align: top;\n",
       "    }\n",
       "\n",
       "    .dataframe thead th {\n",
       "        text-align: right;\n",
       "    }\n",
       "</style>\n",
       "<table border=\"1\" class=\"dataframe\">\n",
       "  <thead>\n",
       "    <tr style=\"text-align: right;\">\n",
       "      <th></th>\n",
       "      <th>cpf</th>\n",
       "      <th>data_vencimento</th>\n",
       "      <th>data_pagamento</th>\n",
       "      <th>valor_fatura</th>\n",
       "      <th>idade</th>\n",
       "    </tr>\n",
       "  </thead>\n",
       "  <tbody>\n",
       "    <tr>\n",
       "      <th>0</th>\n",
       "      <td>791.604.835-39</td>\n",
       "      <td>2024-08-05</td>\n",
       "      <td>2024-08-12</td>\n",
       "      <td>9624</td>\n",
       "      <td>54</td>\n",
       "    </tr>\n",
       "    <tr>\n",
       "      <th>1</th>\n",
       "      <td>598.024.637-10</td>\n",
       "      <td>2024-05-27</td>\n",
       "      <td>2024-05-24</td>\n",
       "      <td>6620</td>\n",
       "      <td>80</td>\n",
       "    </tr>\n",
       "    <tr>\n",
       "      <th>2</th>\n",
       "      <td>374.590.162-25</td>\n",
       "      <td>2024-09-19</td>\n",
       "      <td>2024-10-02</td>\n",
       "      <td>8305</td>\n",
       "      <td>32</td>\n",
       "    </tr>\n",
       "    <tr>\n",
       "      <th>3</th>\n",
       "      <td>352.940.761-52</td>\n",
       "      <td>2024-05-28</td>\n",
       "      <td>2024-06-18</td>\n",
       "      <td>6285</td>\n",
       "      <td>47</td>\n",
       "    </tr>\n",
       "    <tr>\n",
       "      <th>4</th>\n",
       "      <td>386.014.275-53</td>\n",
       "      <td>2024-04-20</td>\n",
       "      <td>2024-04-23</td>\n",
       "      <td>7727</td>\n",
       "      <td>41</td>\n",
       "    </tr>\n",
       "  </tbody>\n",
       "</table>\n",
       "</div>"
      ],
      "text/plain": [
       "              cpf data_vencimento data_pagamento  valor_fatura  idade\n",
       "0  791.604.835-39      2024-08-05     2024-08-12          9624     54\n",
       "1  598.024.637-10      2024-05-27     2024-05-24          6620     80\n",
       "2  374.590.162-25      2024-09-19     2024-10-02          8305     32\n",
       "3  352.940.761-52      2024-05-28     2024-06-18          6285     47\n",
       "4  386.014.275-53      2024-04-20     2024-04-23          7727     41"
      ]
     },
     "execution_count": 104,
     "metadata": {},
     "output_type": "execute_result"
    }
   ],
   "source": [
    "df.head()"
   ]
  },
  {
   "cell_type": "markdown",
   "metadata": {},
   "source": [
    "Solução 1: utilizar looping 'for'"
   ]
  },
  {
   "cell_type": "code",
   "execution_count": 105,
   "metadata": {},
   "outputs": [
    {
     "name": "stdout",
     "output_type": "stream",
     "text": [
      "5.53 ms ± 382 µs per loop (mean ± std. dev. of 7 runs, 100 loops each)\n"
     ]
    }
   ],
   "source": [
    "%%timeit\n",
    "vencido_5_dias = []\n",
    "for i, row in df.iterrows():\n",
    "    if row['data_pagamento'] > row['data_vencimento'] + pd.Timedelta(days=5):\n",
    "        vencido_5_dias.append(1)\n",
    "    else:\n",
    "        vencido_5_dias.append(0)\n",
    "\n",
    "df['vencido_5_dias'] = vencido_5_dias"
   ]
  },
  {
   "cell_type": "code",
   "execution_count": 106,
   "metadata": {},
   "outputs": [
    {
     "name": "stdout",
     "output_type": "stream",
     "text": [
      "Execution time: 5.497584400000051 ms\n"
     ]
    }
   ],
   "source": [
    "# Salvando resultado\n",
    "\n",
    "code_to_time = \"\"\"\n",
    "vencido_5_dias = []\n",
    "for i, row in df.iterrows():\n",
    "    if row['data_pagamento'] > row['data_vencimento'] + pd.Timedelta(days=5):\n",
    "        vencido_5_dias.append(1)\n",
    "    else:\n",
    "        vencido_5_dias.append(0)\n",
    "\n",
    "df['vencido_5_dias'] = vencido_5_dias\n",
    "\"\"\"\n",
    "\n",
    "execution_time = timeit.timeit(code_to_time, number=1000, globals=globals())\n",
    "\n",
    "print(f\"Execution time: {execution_time} ms\")"
   ]
  },
  {
   "cell_type": "code",
   "execution_count": 107,
   "metadata": {},
   "outputs": [
    {
     "data": {
      "text/html": [
       "<div>\n",
       "<style scoped>\n",
       "    .dataframe tbody tr th:only-of-type {\n",
       "        vertical-align: middle;\n",
       "    }\n",
       "\n",
       "    .dataframe tbody tr th {\n",
       "        vertical-align: top;\n",
       "    }\n",
       "\n",
       "    .dataframe thead th {\n",
       "        text-align: right;\n",
       "    }\n",
       "</style>\n",
       "<table border=\"1\" class=\"dataframe\">\n",
       "  <thead>\n",
       "    <tr style=\"text-align: right;\">\n",
       "      <th></th>\n",
       "      <th>cpf</th>\n",
       "      <th>data_vencimento</th>\n",
       "      <th>data_pagamento</th>\n",
       "      <th>valor_fatura</th>\n",
       "      <th>idade</th>\n",
       "      <th>vencido_5_dias</th>\n",
       "    </tr>\n",
       "  </thead>\n",
       "  <tbody>\n",
       "    <tr>\n",
       "      <th>0</th>\n",
       "      <td>791.604.835-39</td>\n",
       "      <td>2024-08-05</td>\n",
       "      <td>2024-08-12</td>\n",
       "      <td>9624</td>\n",
       "      <td>54</td>\n",
       "      <td>1</td>\n",
       "    </tr>\n",
       "    <tr>\n",
       "      <th>1</th>\n",
       "      <td>598.024.637-10</td>\n",
       "      <td>2024-05-27</td>\n",
       "      <td>2024-05-24</td>\n",
       "      <td>6620</td>\n",
       "      <td>80</td>\n",
       "      <td>0</td>\n",
       "    </tr>\n",
       "    <tr>\n",
       "      <th>2</th>\n",
       "      <td>374.590.162-25</td>\n",
       "      <td>2024-09-19</td>\n",
       "      <td>2024-10-02</td>\n",
       "      <td>8305</td>\n",
       "      <td>32</td>\n",
       "      <td>1</td>\n",
       "    </tr>\n",
       "    <tr>\n",
       "      <th>3</th>\n",
       "      <td>352.940.761-52</td>\n",
       "      <td>2024-05-28</td>\n",
       "      <td>2024-06-18</td>\n",
       "      <td>6285</td>\n",
       "      <td>47</td>\n",
       "      <td>1</td>\n",
       "    </tr>\n",
       "    <tr>\n",
       "      <th>4</th>\n",
       "      <td>386.014.275-53</td>\n",
       "      <td>2024-04-20</td>\n",
       "      <td>2024-04-23</td>\n",
       "      <td>7727</td>\n",
       "      <td>41</td>\n",
       "      <td>0</td>\n",
       "    </tr>\n",
       "    <tr>\n",
       "      <th>5</th>\n",
       "      <td>938.120.465-98</td>\n",
       "      <td>2024-05-10</td>\n",
       "      <td>2024-05-27</td>\n",
       "      <td>5077</td>\n",
       "      <td>80</td>\n",
       "      <td>1</td>\n",
       "    </tr>\n",
       "    <tr>\n",
       "      <th>6</th>\n",
       "      <td>684.309.572-00</td>\n",
       "      <td>2024-10-18</td>\n",
       "      <td>2024-10-20</td>\n",
       "      <td>6954</td>\n",
       "      <td>45</td>\n",
       "      <td>0</td>\n",
       "    </tr>\n",
       "    <tr>\n",
       "      <th>7</th>\n",
       "      <td>950.768.314-39</td>\n",
       "      <td>2024-06-07</td>\n",
       "      <td>2024-06-26</td>\n",
       "      <td>3878</td>\n",
       "      <td>53</td>\n",
       "      <td>1</td>\n",
       "    </tr>\n",
       "    <tr>\n",
       "      <th>8</th>\n",
       "      <td>056.914.738-75</td>\n",
       "      <td>2024-03-16</td>\n",
       "      <td>2024-03-16</td>\n",
       "      <td>5641</td>\n",
       "      <td>32</td>\n",
       "      <td>0</td>\n",
       "    </tr>\n",
       "    <tr>\n",
       "      <th>9</th>\n",
       "      <td>781.092.354-41</td>\n",
       "      <td>2024-05-05</td>\n",
       "      <td>2024-05-06</td>\n",
       "      <td>2474</td>\n",
       "      <td>45</td>\n",
       "      <td>0</td>\n",
       "    </tr>\n",
       "  </tbody>\n",
       "</table>\n",
       "</div>"
      ],
      "text/plain": [
       "              cpf data_vencimento data_pagamento  valor_fatura  idade  \\\n",
       "0  791.604.835-39      2024-08-05     2024-08-12          9624     54   \n",
       "1  598.024.637-10      2024-05-27     2024-05-24          6620     80   \n",
       "2  374.590.162-25      2024-09-19     2024-10-02          8305     32   \n",
       "3  352.940.761-52      2024-05-28     2024-06-18          6285     47   \n",
       "4  386.014.275-53      2024-04-20     2024-04-23          7727     41   \n",
       "5  938.120.465-98      2024-05-10     2024-05-27          5077     80   \n",
       "6  684.309.572-00      2024-10-18     2024-10-20          6954     45   \n",
       "7  950.768.314-39      2024-06-07     2024-06-26          3878     53   \n",
       "8  056.914.738-75      2024-03-16     2024-03-16          5641     32   \n",
       "9  781.092.354-41      2024-05-05     2024-05-06          2474     45   \n",
       "\n",
       "   vencido_5_dias  \n",
       "0               1  \n",
       "1               0  \n",
       "2               1  \n",
       "3               1  \n",
       "4               0  \n",
       "5               1  \n",
       "6               0  \n",
       "7               1  \n",
       "8               0  \n",
       "9               0  "
      ]
     },
     "execution_count": 107,
     "metadata": {},
     "output_type": "execute_result"
    }
   ],
   "source": [
    "df.head(10)"
   ]
  },
  {
   "cell_type": "markdown",
   "metadata": {},
   "source": [
    "Solução 2: utilizando df.apply"
   ]
  },
  {
   "cell_type": "code",
   "execution_count": 108,
   "metadata": {},
   "outputs": [],
   "source": [
    "df.drop(['vencido_5_dias'], axis=1, inplace=True)"
   ]
  },
  {
   "cell_type": "code",
   "execution_count": 109,
   "metadata": {},
   "outputs": [
    {
     "data": {
      "text/html": [
       "<div>\n",
       "<style scoped>\n",
       "    .dataframe tbody tr th:only-of-type {\n",
       "        vertical-align: middle;\n",
       "    }\n",
       "\n",
       "    .dataframe tbody tr th {\n",
       "        vertical-align: top;\n",
       "    }\n",
       "\n",
       "    .dataframe thead th {\n",
       "        text-align: right;\n",
       "    }\n",
       "</style>\n",
       "<table border=\"1\" class=\"dataframe\">\n",
       "  <thead>\n",
       "    <tr style=\"text-align: right;\">\n",
       "      <th></th>\n",
       "      <th>cpf</th>\n",
       "      <th>data_vencimento</th>\n",
       "      <th>data_pagamento</th>\n",
       "      <th>valor_fatura</th>\n",
       "      <th>idade</th>\n",
       "    </tr>\n",
       "  </thead>\n",
       "  <tbody>\n",
       "    <tr>\n",
       "      <th>0</th>\n",
       "      <td>791.604.835-39</td>\n",
       "      <td>2024-08-05</td>\n",
       "      <td>2024-08-12</td>\n",
       "      <td>9624</td>\n",
       "      <td>54</td>\n",
       "    </tr>\n",
       "    <tr>\n",
       "      <th>1</th>\n",
       "      <td>598.024.637-10</td>\n",
       "      <td>2024-05-27</td>\n",
       "      <td>2024-05-24</td>\n",
       "      <td>6620</td>\n",
       "      <td>80</td>\n",
       "    </tr>\n",
       "    <tr>\n",
       "      <th>2</th>\n",
       "      <td>374.590.162-25</td>\n",
       "      <td>2024-09-19</td>\n",
       "      <td>2024-10-02</td>\n",
       "      <td>8305</td>\n",
       "      <td>32</td>\n",
       "    </tr>\n",
       "    <tr>\n",
       "      <th>3</th>\n",
       "      <td>352.940.761-52</td>\n",
       "      <td>2024-05-28</td>\n",
       "      <td>2024-06-18</td>\n",
       "      <td>6285</td>\n",
       "      <td>47</td>\n",
       "    </tr>\n",
       "    <tr>\n",
       "      <th>4</th>\n",
       "      <td>386.014.275-53</td>\n",
       "      <td>2024-04-20</td>\n",
       "      <td>2024-04-23</td>\n",
       "      <td>7727</td>\n",
       "      <td>41</td>\n",
       "    </tr>\n",
       "  </tbody>\n",
       "</table>\n",
       "</div>"
      ],
      "text/plain": [
       "              cpf data_vencimento data_pagamento  valor_fatura  idade\n",
       "0  791.604.835-39      2024-08-05     2024-08-12          9624     54\n",
       "1  598.024.637-10      2024-05-27     2024-05-24          6620     80\n",
       "2  374.590.162-25      2024-09-19     2024-10-02          8305     32\n",
       "3  352.940.761-52      2024-05-28     2024-06-18          6285     47\n",
       "4  386.014.275-53      2024-04-20     2024-04-23          7727     41"
      ]
     },
     "execution_count": 109,
     "metadata": {},
     "output_type": "execute_result"
    }
   ],
   "source": [
    "df.head()"
   ]
  },
  {
   "cell_type": "code",
   "execution_count": 110,
   "metadata": {},
   "outputs": [],
   "source": [
    "def calcular_fatura_vencia_5_dias(row):\n",
    "    if row['data_pagamento'] > row['data_vencimento'] + pd.Timedelta(days=5):\n",
    "        return 1\n",
    "    else:\n",
    "        return 0"
   ]
  },
  {
   "cell_type": "code",
   "execution_count": 111,
   "metadata": {},
   "outputs": [
    {
     "name": "stdout",
     "output_type": "stream",
     "text": [
      "1.67 ms ± 97.5 µs per loop (mean ± std. dev. of 7 runs, 1,000 loops each)\n"
     ]
    }
   ],
   "source": [
    "%%timeit\n",
    "df['vencido_5_dias'] = df.apply(calcular_fatura_vencia_5_dias, axis=1)"
   ]
  },
  {
   "cell_type": "code",
   "execution_count": 112,
   "metadata": {},
   "outputs": [
    {
     "name": "stdout",
     "output_type": "stream",
     "text": [
      "Execution time: 1.7743573999032378 ms\n"
     ]
    }
   ],
   "source": [
    "# Salvando resultado\n",
    "\n",
    "code_to_time = \"\"\"\n",
    "df['vencido_5_dias'] = df.apply(calcular_fatura_vencia_5_dias, axis=1)\n",
    "\"\"\"\n",
    "\n",
    "execution_time = timeit.timeit(code_to_time, number=1000, globals=globals())\n",
    "\n",
    "print(f\"Execution time: {execution_time} ms\")"
   ]
  },
  {
   "cell_type": "code",
   "execution_count": 113,
   "metadata": {},
   "outputs": [
    {
     "data": {
      "text/html": [
       "<div>\n",
       "<style scoped>\n",
       "    .dataframe tbody tr th:only-of-type {\n",
       "        vertical-align: middle;\n",
       "    }\n",
       "\n",
       "    .dataframe tbody tr th {\n",
       "        vertical-align: top;\n",
       "    }\n",
       "\n",
       "    .dataframe thead th {\n",
       "        text-align: right;\n",
       "    }\n",
       "</style>\n",
       "<table border=\"1\" class=\"dataframe\">\n",
       "  <thead>\n",
       "    <tr style=\"text-align: right;\">\n",
       "      <th></th>\n",
       "      <th>cpf</th>\n",
       "      <th>data_vencimento</th>\n",
       "      <th>data_pagamento</th>\n",
       "      <th>valor_fatura</th>\n",
       "      <th>idade</th>\n",
       "      <th>vencido_5_dias</th>\n",
       "    </tr>\n",
       "  </thead>\n",
       "  <tbody>\n",
       "    <tr>\n",
       "      <th>0</th>\n",
       "      <td>791.604.835-39</td>\n",
       "      <td>2024-08-05</td>\n",
       "      <td>2024-08-12</td>\n",
       "      <td>9624</td>\n",
       "      <td>54</td>\n",
       "      <td>1</td>\n",
       "    </tr>\n",
       "    <tr>\n",
       "      <th>1</th>\n",
       "      <td>598.024.637-10</td>\n",
       "      <td>2024-05-27</td>\n",
       "      <td>2024-05-24</td>\n",
       "      <td>6620</td>\n",
       "      <td>80</td>\n",
       "      <td>0</td>\n",
       "    </tr>\n",
       "    <tr>\n",
       "      <th>2</th>\n",
       "      <td>374.590.162-25</td>\n",
       "      <td>2024-09-19</td>\n",
       "      <td>2024-10-02</td>\n",
       "      <td>8305</td>\n",
       "      <td>32</td>\n",
       "      <td>1</td>\n",
       "    </tr>\n",
       "    <tr>\n",
       "      <th>3</th>\n",
       "      <td>352.940.761-52</td>\n",
       "      <td>2024-05-28</td>\n",
       "      <td>2024-06-18</td>\n",
       "      <td>6285</td>\n",
       "      <td>47</td>\n",
       "      <td>1</td>\n",
       "    </tr>\n",
       "    <tr>\n",
       "      <th>4</th>\n",
       "      <td>386.014.275-53</td>\n",
       "      <td>2024-04-20</td>\n",
       "      <td>2024-04-23</td>\n",
       "      <td>7727</td>\n",
       "      <td>41</td>\n",
       "      <td>0</td>\n",
       "    </tr>\n",
       "    <tr>\n",
       "      <th>5</th>\n",
       "      <td>938.120.465-98</td>\n",
       "      <td>2024-05-10</td>\n",
       "      <td>2024-05-27</td>\n",
       "      <td>5077</td>\n",
       "      <td>80</td>\n",
       "      <td>1</td>\n",
       "    </tr>\n",
       "    <tr>\n",
       "      <th>6</th>\n",
       "      <td>684.309.572-00</td>\n",
       "      <td>2024-10-18</td>\n",
       "      <td>2024-10-20</td>\n",
       "      <td>6954</td>\n",
       "      <td>45</td>\n",
       "      <td>0</td>\n",
       "    </tr>\n",
       "    <tr>\n",
       "      <th>7</th>\n",
       "      <td>950.768.314-39</td>\n",
       "      <td>2024-06-07</td>\n",
       "      <td>2024-06-26</td>\n",
       "      <td>3878</td>\n",
       "      <td>53</td>\n",
       "      <td>1</td>\n",
       "    </tr>\n",
       "    <tr>\n",
       "      <th>8</th>\n",
       "      <td>056.914.738-75</td>\n",
       "      <td>2024-03-16</td>\n",
       "      <td>2024-03-16</td>\n",
       "      <td>5641</td>\n",
       "      <td>32</td>\n",
       "      <td>0</td>\n",
       "    </tr>\n",
       "    <tr>\n",
       "      <th>9</th>\n",
       "      <td>781.092.354-41</td>\n",
       "      <td>2024-05-05</td>\n",
       "      <td>2024-05-06</td>\n",
       "      <td>2474</td>\n",
       "      <td>45</td>\n",
       "      <td>0</td>\n",
       "    </tr>\n",
       "  </tbody>\n",
       "</table>\n",
       "</div>"
      ],
      "text/plain": [
       "              cpf data_vencimento data_pagamento  valor_fatura  idade  \\\n",
       "0  791.604.835-39      2024-08-05     2024-08-12          9624     54   \n",
       "1  598.024.637-10      2024-05-27     2024-05-24          6620     80   \n",
       "2  374.590.162-25      2024-09-19     2024-10-02          8305     32   \n",
       "3  352.940.761-52      2024-05-28     2024-06-18          6285     47   \n",
       "4  386.014.275-53      2024-04-20     2024-04-23          7727     41   \n",
       "5  938.120.465-98      2024-05-10     2024-05-27          5077     80   \n",
       "6  684.309.572-00      2024-10-18     2024-10-20          6954     45   \n",
       "7  950.768.314-39      2024-06-07     2024-06-26          3878     53   \n",
       "8  056.914.738-75      2024-03-16     2024-03-16          5641     32   \n",
       "9  781.092.354-41      2024-05-05     2024-05-06          2474     45   \n",
       "\n",
       "   vencido_5_dias  \n",
       "0               1  \n",
       "1               0  \n",
       "2               1  \n",
       "3               1  \n",
       "4               0  \n",
       "5               1  \n",
       "6               0  \n",
       "7               1  \n",
       "8               0  \n",
       "9               0  "
      ]
     },
     "execution_count": 113,
     "metadata": {},
     "output_type": "execute_result"
    }
   ],
   "source": [
    "df.head(10)"
   ]
  },
  {
   "cell_type": "markdown",
   "metadata": {},
   "source": [
    "Solução 3: utilizando operações vetoriais"
   ]
  },
  {
   "cell_type": "code",
   "execution_count": 114,
   "metadata": {},
   "outputs": [],
   "source": [
    "df.drop(['vencido_5_dias'], axis=1, inplace=True)"
   ]
  },
  {
   "cell_type": "code",
   "execution_count": 115,
   "metadata": {},
   "outputs": [
    {
     "data": {
      "text/html": [
       "<div>\n",
       "<style scoped>\n",
       "    .dataframe tbody tr th:only-of-type {\n",
       "        vertical-align: middle;\n",
       "    }\n",
       "\n",
       "    .dataframe tbody tr th {\n",
       "        vertical-align: top;\n",
       "    }\n",
       "\n",
       "    .dataframe thead th {\n",
       "        text-align: right;\n",
       "    }\n",
       "</style>\n",
       "<table border=\"1\" class=\"dataframe\">\n",
       "  <thead>\n",
       "    <tr style=\"text-align: right;\">\n",
       "      <th></th>\n",
       "      <th>cpf</th>\n",
       "      <th>data_vencimento</th>\n",
       "      <th>data_pagamento</th>\n",
       "      <th>valor_fatura</th>\n",
       "      <th>idade</th>\n",
       "    </tr>\n",
       "  </thead>\n",
       "  <tbody>\n",
       "    <tr>\n",
       "      <th>0</th>\n",
       "      <td>791.604.835-39</td>\n",
       "      <td>2024-08-05</td>\n",
       "      <td>2024-08-12</td>\n",
       "      <td>9624</td>\n",
       "      <td>54</td>\n",
       "    </tr>\n",
       "    <tr>\n",
       "      <th>1</th>\n",
       "      <td>598.024.637-10</td>\n",
       "      <td>2024-05-27</td>\n",
       "      <td>2024-05-24</td>\n",
       "      <td>6620</td>\n",
       "      <td>80</td>\n",
       "    </tr>\n",
       "    <tr>\n",
       "      <th>2</th>\n",
       "      <td>374.590.162-25</td>\n",
       "      <td>2024-09-19</td>\n",
       "      <td>2024-10-02</td>\n",
       "      <td>8305</td>\n",
       "      <td>32</td>\n",
       "    </tr>\n",
       "    <tr>\n",
       "      <th>3</th>\n",
       "      <td>352.940.761-52</td>\n",
       "      <td>2024-05-28</td>\n",
       "      <td>2024-06-18</td>\n",
       "      <td>6285</td>\n",
       "      <td>47</td>\n",
       "    </tr>\n",
       "    <tr>\n",
       "      <th>4</th>\n",
       "      <td>386.014.275-53</td>\n",
       "      <td>2024-04-20</td>\n",
       "      <td>2024-04-23</td>\n",
       "      <td>7727</td>\n",
       "      <td>41</td>\n",
       "    </tr>\n",
       "  </tbody>\n",
       "</table>\n",
       "</div>"
      ],
      "text/plain": [
       "              cpf data_vencimento data_pagamento  valor_fatura  idade\n",
       "0  791.604.835-39      2024-08-05     2024-08-12          9624     54\n",
       "1  598.024.637-10      2024-05-27     2024-05-24          6620     80\n",
       "2  374.590.162-25      2024-09-19     2024-10-02          8305     32\n",
       "3  352.940.761-52      2024-05-28     2024-06-18          6285     47\n",
       "4  386.014.275-53      2024-04-20     2024-04-23          7727     41"
      ]
     },
     "execution_count": 115,
     "metadata": {},
     "output_type": "execute_result"
    }
   ],
   "source": [
    "df.head()"
   ]
  },
  {
   "cell_type": "code",
   "execution_count": 116,
   "metadata": {},
   "outputs": [
    {
     "name": "stdout",
     "output_type": "stream",
     "text": [
      "728 µs ± 77.6 µs per loop (mean ± std. dev. of 7 runs, 1,000 loops each)\n"
     ]
    }
   ],
   "source": [
    "%%timeit\n",
    "dt_vencimento = pd.to_datetime(df['data_vencimento'], format=r'%Y-%m-%d')\n",
    "dt_pagamento = pd.to_datetime(df['data_pagamento'], format=r'%Y-%m-%d')\n",
    "\n",
    "dias_vencido = (dt_pagamento - dt_vencimento).dt.days\n",
    "\n",
    "df['vencido_5_dias'] = (dias_vencido > 5 ).astype(int)"
   ]
  },
  {
   "cell_type": "code",
   "execution_count": 117,
   "metadata": {},
   "outputs": [
    {
     "name": "stdout",
     "output_type": "stream",
     "text": [
      "Execution time: 0.7150965000037104 ms\n"
     ]
    }
   ],
   "source": [
    "# Salvando resultado\n",
    "\n",
    "code_to_time = \"\"\"\n",
    "dt_vencimento = pd.to_datetime(df['data_vencimento'], format=r'%Y-%m-%d')\n",
    "dt_pagamento = pd.to_datetime(df['data_pagamento'], format=r'%Y-%m-%d')\n",
    "\n",
    "dias_vencido = (dt_pagamento - dt_vencimento).dt.days\n",
    "\n",
    "df['vencido_5_dias'] = (dias_vencido > 5 ).astype(int)\n",
    "\"\"\"\n",
    "\n",
    "execution_time = timeit.timeit(code_to_time, number=1000, globals=globals())\n",
    "\n",
    "print(f\"Execution time: {execution_time} ms\")"
   ]
  },
  {
   "cell_type": "code",
   "execution_count": 118,
   "metadata": {},
   "outputs": [
    {
     "data": {
      "text/html": [
       "<div>\n",
       "<style scoped>\n",
       "    .dataframe tbody tr th:only-of-type {\n",
       "        vertical-align: middle;\n",
       "    }\n",
       "\n",
       "    .dataframe tbody tr th {\n",
       "        vertical-align: top;\n",
       "    }\n",
       "\n",
       "    .dataframe thead th {\n",
       "        text-align: right;\n",
       "    }\n",
       "</style>\n",
       "<table border=\"1\" class=\"dataframe\">\n",
       "  <thead>\n",
       "    <tr style=\"text-align: right;\">\n",
       "      <th></th>\n",
       "      <th>cpf</th>\n",
       "      <th>data_vencimento</th>\n",
       "      <th>data_pagamento</th>\n",
       "      <th>valor_fatura</th>\n",
       "      <th>idade</th>\n",
       "      <th>vencido_5_dias</th>\n",
       "    </tr>\n",
       "  </thead>\n",
       "  <tbody>\n",
       "    <tr>\n",
       "      <th>0</th>\n",
       "      <td>791.604.835-39</td>\n",
       "      <td>2024-08-05</td>\n",
       "      <td>2024-08-12</td>\n",
       "      <td>9624</td>\n",
       "      <td>54</td>\n",
       "      <td>1</td>\n",
       "    </tr>\n",
       "    <tr>\n",
       "      <th>1</th>\n",
       "      <td>598.024.637-10</td>\n",
       "      <td>2024-05-27</td>\n",
       "      <td>2024-05-24</td>\n",
       "      <td>6620</td>\n",
       "      <td>80</td>\n",
       "      <td>0</td>\n",
       "    </tr>\n",
       "    <tr>\n",
       "      <th>2</th>\n",
       "      <td>374.590.162-25</td>\n",
       "      <td>2024-09-19</td>\n",
       "      <td>2024-10-02</td>\n",
       "      <td>8305</td>\n",
       "      <td>32</td>\n",
       "      <td>1</td>\n",
       "    </tr>\n",
       "    <tr>\n",
       "      <th>3</th>\n",
       "      <td>352.940.761-52</td>\n",
       "      <td>2024-05-28</td>\n",
       "      <td>2024-06-18</td>\n",
       "      <td>6285</td>\n",
       "      <td>47</td>\n",
       "      <td>1</td>\n",
       "    </tr>\n",
       "    <tr>\n",
       "      <th>4</th>\n",
       "      <td>386.014.275-53</td>\n",
       "      <td>2024-04-20</td>\n",
       "      <td>2024-04-23</td>\n",
       "      <td>7727</td>\n",
       "      <td>41</td>\n",
       "      <td>0</td>\n",
       "    </tr>\n",
       "    <tr>\n",
       "      <th>5</th>\n",
       "      <td>938.120.465-98</td>\n",
       "      <td>2024-05-10</td>\n",
       "      <td>2024-05-27</td>\n",
       "      <td>5077</td>\n",
       "      <td>80</td>\n",
       "      <td>1</td>\n",
       "    </tr>\n",
       "    <tr>\n",
       "      <th>6</th>\n",
       "      <td>684.309.572-00</td>\n",
       "      <td>2024-10-18</td>\n",
       "      <td>2024-10-20</td>\n",
       "      <td>6954</td>\n",
       "      <td>45</td>\n",
       "      <td>0</td>\n",
       "    </tr>\n",
       "    <tr>\n",
       "      <th>7</th>\n",
       "      <td>950.768.314-39</td>\n",
       "      <td>2024-06-07</td>\n",
       "      <td>2024-06-26</td>\n",
       "      <td>3878</td>\n",
       "      <td>53</td>\n",
       "      <td>1</td>\n",
       "    </tr>\n",
       "    <tr>\n",
       "      <th>8</th>\n",
       "      <td>056.914.738-75</td>\n",
       "      <td>2024-03-16</td>\n",
       "      <td>2024-03-16</td>\n",
       "      <td>5641</td>\n",
       "      <td>32</td>\n",
       "      <td>0</td>\n",
       "    </tr>\n",
       "    <tr>\n",
       "      <th>9</th>\n",
       "      <td>781.092.354-41</td>\n",
       "      <td>2024-05-05</td>\n",
       "      <td>2024-05-06</td>\n",
       "      <td>2474</td>\n",
       "      <td>45</td>\n",
       "      <td>0</td>\n",
       "    </tr>\n",
       "  </tbody>\n",
       "</table>\n",
       "</div>"
      ],
      "text/plain": [
       "              cpf data_vencimento data_pagamento  valor_fatura  idade  \\\n",
       "0  791.604.835-39      2024-08-05     2024-08-12          9624     54   \n",
       "1  598.024.637-10      2024-05-27     2024-05-24          6620     80   \n",
       "2  374.590.162-25      2024-09-19     2024-10-02          8305     32   \n",
       "3  352.940.761-52      2024-05-28     2024-06-18          6285     47   \n",
       "4  386.014.275-53      2024-04-20     2024-04-23          7727     41   \n",
       "5  938.120.465-98      2024-05-10     2024-05-27          5077     80   \n",
       "6  684.309.572-00      2024-10-18     2024-10-20          6954     45   \n",
       "7  950.768.314-39      2024-06-07     2024-06-26          3878     53   \n",
       "8  056.914.738-75      2024-03-16     2024-03-16          5641     32   \n",
       "9  781.092.354-41      2024-05-05     2024-05-06          2474     45   \n",
       "\n",
       "   vencido_5_dias  \n",
       "0               1  \n",
       "1               0  \n",
       "2               1  \n",
       "3               1  \n",
       "4               0  \n",
       "5               1  \n",
       "6               0  \n",
       "7               1  \n",
       "8               0  \n",
       "9               0  "
      ]
     },
     "execution_count": 118,
     "metadata": {},
     "output_type": "execute_result"
    }
   ],
   "source": [
    "df.head(10)"
   ]
  },
  {
   "cell_type": "markdown",
   "metadata": {},
   "source": [
    "Foi testado com uma base pequena com apenas 100 linhas\n",
    "\n",
    "Vamos verificar como o tempo aumenta conforme aumenta a base"
   ]
  },
  {
   "cell_type": "code",
   "execution_count": 152,
   "metadata": {},
   "outputs": [],
   "source": [
    "def metodo_1(base):\n",
    "    base['data_vencimento'] = pd.to_datetime(base['data_vencimento'])\n",
    "    base['data_pagamento'] = pd.to_datetime(base['data_pagamento'])\n",
    "\n",
    "    vencido_5_dias = []\n",
    "    for i, row in df.iterrows():\n",
    "        if row['data_pagamento'] > row['data_vencimento'] + pd.Timedelta(days=5):\n",
    "            vencido_5_dias.append(1)\n",
    "        else:\n",
    "            vencido_5_dias.append(0)\n",
    "\n",
    "    df['vencido_5_dias'] = vencido_5_dias\n",
    "    return base\n",
    "\n",
    "def metodo_2(base):\n",
    "    base['data_vencimento'] = pd.to_datetime(base['data_vencimento'])\n",
    "    base['data_pagamento'] = pd.to_datetime(base['data_pagamento'])\n",
    "    \n",
    "    base['vencido_5_dias'] = base.apply(calcular_fatura_vencia_5_dias, axis=1)\n",
    "    return base\n",
    "\n",
    "def metodo_3(base):\n",
    "    dt_vencimento = pd.to_datetime(base['data_vencimento'], format=r'%Y-%m-%d')\n",
    "    dt_pagamento = pd.to_datetime(base['data_pagamento'], format=r'%Y-%m-%d')\n",
    "\n",
    "    dias_vencido = (dt_pagamento - dt_vencimento).dt.days\n",
    "\n",
    "    base['vencido_5_dias'] = (dias_vencido > 5 ).astype(int)\n",
    "    return base"
   ]
  },
  {
   "cell_type": "code",
   "execution_count": null,
   "metadata": {},
   "outputs": [],
   "source": [
    "df = pd.read_csv('data/fake_payment_data.csv')\n",
    "\n",
    "metodo_1(df).head(10)"
   ]
  },
  {
   "cell_type": "code",
   "execution_count": null,
   "metadata": {},
   "outputs": [],
   "source": [
    "df = pd.read_csv('data/fake_payment_data.csv')\n",
    "\n",
    "metodo_2(df).head(10)"
   ]
  },
  {
   "cell_type": "code",
   "execution_count": null,
   "metadata": {},
   "outputs": [],
   "source": [
    "df = pd.read_csv('data/fake_payment_data.csv')\n",
    "\n",
    "metodo_3(df).head(10)"
   ]
  },
  {
   "cell_type": "code",
   "execution_count": 190,
   "metadata": {},
   "outputs": [],
   "source": [
    "lista_de_tempo_de_execucao = []\n",
    "lista_qtd_linhas = [1, 10, 100, 1000]\n",
    "lista_de_metodos = [\"metodo_1\", \"metodo_2\", \"metodo_3\"]"
   ]
  },
  {
   "cell_type": "code",
   "execution_count": null,
   "metadata": {},
   "outputs": [
    {
     "name": "stdout",
     "output_type": "stream",
     "text": [
      "Executando metodo metodo_1 com 100 linhas\n",
      "Executando metodo metodo_1 com 1000 linhas\n",
      "Executando metodo metodo_1 com 10000 linhas\n",
      "Executando metodo metodo_1 com 100000 linhas\n",
      "Executando metodo metodo_2 com 100 linhas\n",
      "Executando metodo metodo_2 com 1000 linhas\n",
      "Executando metodo metodo_2 com 10000 linhas\n",
      "Executando metodo metodo_2 com 100000 linhas\n",
      "Executando metodo metodo_3 com 100 linhas\n",
      "Executando metodo metodo_3 com 1000 linhas\n",
      "Executando metodo metodo_3 com 10000 linhas\n",
      "Executando metodo metodo_3 com 100000 linhas\n"
     ]
    },
    {
     "data": {
      "text/html": [
       "<div>\n",
       "<style scoped>\n",
       "    .dataframe tbody tr th:only-of-type {\n",
       "        vertical-align: middle;\n",
       "    }\n",
       "\n",
       "    .dataframe tbody tr th {\n",
       "        vertical-align: top;\n",
       "    }\n",
       "\n",
       "    .dataframe thead th {\n",
       "        text-align: right;\n",
       "    }\n",
       "</style>\n",
       "<table border=\"1\" class=\"dataframe\">\n",
       "  <thead>\n",
       "    <tr style=\"text-align: right;\">\n",
       "      <th></th>\n",
       "      <th>metodo</th>\n",
       "      <th>qtd_linhas</th>\n",
       "      <th>execution_time(ms)</th>\n",
       "    </tr>\n",
       "  </thead>\n",
       "  <tbody>\n",
       "    <tr>\n",
       "      <th>0</th>\n",
       "      <td>metodo_1</td>\n",
       "      <td>1</td>\n",
       "      <td>5.825657</td>\n",
       "    </tr>\n",
       "    <tr>\n",
       "      <th>1</th>\n",
       "      <td>metodo_1</td>\n",
       "      <td>10</td>\n",
       "      <td>50.292518</td>\n",
       "    </tr>\n",
       "    <tr>\n",
       "      <th>2</th>\n",
       "      <td>metodo_1</td>\n",
       "      <td>100</td>\n",
       "      <td>603.711462</td>\n",
       "    </tr>\n",
       "    <tr>\n",
       "      <th>3</th>\n",
       "      <td>metodo_1</td>\n",
       "      <td>1000</td>\n",
       "      <td>5322.482296</td>\n",
       "    </tr>\n",
       "    <tr>\n",
       "      <th>4</th>\n",
       "      <td>metodo_2</td>\n",
       "      <td>1</td>\n",
       "      <td>2.103807</td>\n",
       "    </tr>\n",
       "    <tr>\n",
       "      <th>5</th>\n",
       "      <td>metodo_2</td>\n",
       "      <td>10</td>\n",
       "      <td>15.177247</td>\n",
       "    </tr>\n",
       "    <tr>\n",
       "      <th>6</th>\n",
       "      <td>metodo_2</td>\n",
       "      <td>100</td>\n",
       "      <td>146.060862</td>\n",
       "    </tr>\n",
       "    <tr>\n",
       "      <th>7</th>\n",
       "      <td>metodo_2</td>\n",
       "      <td>1000</td>\n",
       "      <td>1377.050086</td>\n",
       "    </tr>\n",
       "    <tr>\n",
       "      <th>8</th>\n",
       "      <td>metodo_3</td>\n",
       "      <td>1</td>\n",
       "      <td>0.858992</td>\n",
       "    </tr>\n",
       "    <tr>\n",
       "      <th>9</th>\n",
       "      <td>metodo_3</td>\n",
       "      <td>10</td>\n",
       "      <td>1.521882</td>\n",
       "    </tr>\n",
       "    <tr>\n",
       "      <th>10</th>\n",
       "      <td>metodo_3</td>\n",
       "      <td>100</td>\n",
       "      <td>3.222001</td>\n",
       "    </tr>\n",
       "    <tr>\n",
       "      <th>11</th>\n",
       "      <td>metodo_3</td>\n",
       "      <td>1000</td>\n",
       "      <td>19.181562</td>\n",
       "    </tr>\n",
       "  </tbody>\n",
       "</table>\n",
       "</div>"
      ],
      "text/plain": [
       "      metodo  qtd_linhas  execution_time(ms)\n",
       "0   metodo_1           1            5.825657\n",
       "1   metodo_1          10           50.292518\n",
       "2   metodo_1         100          603.711462\n",
       "3   metodo_1        1000         5322.482296\n",
       "4   metodo_2           1            2.103807\n",
       "5   metodo_2          10           15.177247\n",
       "6   metodo_2         100          146.060862\n",
       "7   metodo_2        1000         1377.050086\n",
       "8   metodo_3           1            0.858992\n",
       "9   metodo_3          10            1.521882\n",
       "10  metodo_3         100            3.222001\n",
       "11  metodo_3        1000           19.181562"
      ]
     },
     "execution_count": 191,
     "metadata": {},
     "output_type": "execute_result"
    }
   ],
   "source": [
    "# tempo de execução no meu notebook: 125 minutos\n",
    "for metodo in lista_de_metodos:\n",
    "    for qtd_linhas in lista_qtd_linhas:\n",
    "        df = pd.read_csv('data/fake_payment_data.csv')\n",
    "        df = pd.concat([df] * int(qtd_linhas), ignore_index=True)\n",
    "        \n",
    "        code_to_time = f'{metodo}(df)'\n",
    "\n",
    "        print(f\"Executando metodo {metodo} com {len(df)} linhas\")\n",
    "\n",
    "        execution_time = timeit.timeit(code_to_time, number=1000, globals=globals())\n",
    "\n",
    "        lista_de_tempo_de_execucao.append({\n",
    "            'metodo': metodo,\n",
    "            'qtd_linhas': len(df),\n",
    "            'execution_time(ms)': execution_time\n",
    "        })\n",
    "\n",
    "df = pd.DataFrame(lista_de_tempo_de_execucao)\n",
    "df"
   ]
  },
  {
   "cell_type": "code",
   "execution_count": 235,
   "metadata": {},
   "outputs": [],
   "source": [
    "resultados = df.pivot(index='qtd_linhas', columns='metodo', values='execution_time(ms)')"
   ]
  },
  {
   "cell_type": "code",
   "execution_count": 236,
   "metadata": {},
   "outputs": [
    {
     "data": {
      "text/html": [
       "<div>\n",
       "<style scoped>\n",
       "    .dataframe tbody tr th:only-of-type {\n",
       "        vertical-align: middle;\n",
       "    }\n",
       "\n",
       "    .dataframe tbody tr th {\n",
       "        vertical-align: top;\n",
       "    }\n",
       "\n",
       "    .dataframe thead th {\n",
       "        text-align: right;\n",
       "    }\n",
       "</style>\n",
       "<table border=\"1\" class=\"dataframe\">\n",
       "  <thead>\n",
       "    <tr style=\"text-align: right;\">\n",
       "      <th>metodo</th>\n",
       "      <th>metodo_1</th>\n",
       "      <th>metodo_2</th>\n",
       "      <th>metodo_3</th>\n",
       "    </tr>\n",
       "    <tr>\n",
       "      <th>qtd_linhas</th>\n",
       "      <th></th>\n",
       "      <th></th>\n",
       "      <th></th>\n",
       "    </tr>\n",
       "  </thead>\n",
       "  <tbody>\n",
       "    <tr>\n",
       "      <th>100</th>\n",
       "      <td>5.825657</td>\n",
       "      <td>2.103807</td>\n",
       "      <td>0.858992</td>\n",
       "    </tr>\n",
       "    <tr>\n",
       "      <th>1000</th>\n",
       "      <td>50.292518</td>\n",
       "      <td>15.177247</td>\n",
       "      <td>1.521882</td>\n",
       "    </tr>\n",
       "    <tr>\n",
       "      <th>10000</th>\n",
       "      <td>603.711462</td>\n",
       "      <td>146.060862</td>\n",
       "      <td>3.222001</td>\n",
       "    </tr>\n",
       "    <tr>\n",
       "      <th>100000</th>\n",
       "      <td>5322.482296</td>\n",
       "      <td>1377.050086</td>\n",
       "      <td>19.181562</td>\n",
       "    </tr>\n",
       "  </tbody>\n",
       "</table>\n",
       "</div>"
      ],
      "text/plain": [
       "metodo         metodo_1     metodo_2   metodo_3\n",
       "qtd_linhas                                     \n",
       "100            5.825657     2.103807   0.858992\n",
       "1000          50.292518    15.177247   1.521882\n",
       "10000        603.711462   146.060862   3.222001\n",
       "100000      5322.482296  1377.050086  19.181562"
      ]
     },
     "execution_count": 236,
     "metadata": {},
     "output_type": "execute_result"
    }
   ],
   "source": [
    "resultados.index = resultados.index * 100\n",
    "resultados"
   ]
  },
  {
   "cell_type": "code",
   "execution_count": 237,
   "metadata": {},
   "outputs": [
    {
     "data": {
      "text/plain": [
       "<Axes: title={'center': 'Tempo de execução por quantidade de linhas (ms)'}, xlabel='Quantidade de linhas por arquivo', ylabel='Tempo de execução (ms)'>"
      ]
     },
     "execution_count": 237,
     "metadata": {},
     "output_type": "execute_result"
    },
    {
     "data": {
      "image/png": "[encoded data removed]",
      "text/plain": [
       "<Figure size 1000x600 with 1 Axes>"
      ]
     },
     "metadata": {},
     "output_type": "display_data"
    }
   ],
   "source": [
    "resultados.plot(kind='line', \n",
    "                figsize=(10, 6), \n",
    "                title='Tempo de execução por quantidade de linhas (ms)',\n",
    "                xlabel='Quantidade de linhas por arquivo',\n",
    "                ylabel='Tempo de execução (ms)')"
   ]
  },
  {
   "cell_type": "code",
   "execution_count": 239,
   "metadata": {},
   "outputs": [
    {
     "data": {
      "text/plain": [
       "<Axes: title={'center': 'Tempo de execução por quantidade de linhas (ms)'}, xlabel='Quantidade de linhas por arquivo', ylabel='Tempo de execução (ms) - escala logaritmica'>"
      ]
     },
     "execution_count": 239,
     "metadata": {},
     "output_type": "execute_result"
    },
    {
     "data": {
      "image/png": "[encoded data removed]",
      "text/plain": [
       "<Figure size 1000x600 with 1 Axes>"
      ]
     },
     "metadata": {},
     "output_type": "display_data"
    }
   ],
   "source": [
    "resultados.plot(kind='line', \n",
    "                figsize=(10, 6), \n",
    "                title='Tempo de execução por quantidade de linhas (ms)', \n",
    "                xlabel='Quantidade de linhas por arquivo',\n",
    "                ylabel='Tempo de execução (ms) - escala logaritmica',\n",
    "                logy=True)"
   ]
  }
 ],
 "metadata": {
  "kernelspec": {
   "display_name": ".venv",
   "language": "python",
   "name": "python3"
  },
  "language_info": {
   "codemirror_mode": {
    "name": "ipython",
    "version": 3
   },
   "file_extension": ".py",
   "mimetype": "text/x-python",
   "name": "python",
   "nbconvert_exporter": "python",
   "pygments_lexer": "ipython3",
   "version": "3.11.4"
  }
 },
 "nbformat": 4,
 "nbformat_minor": 2
}
